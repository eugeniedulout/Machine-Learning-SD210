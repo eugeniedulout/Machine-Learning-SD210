{
  "cells": [
    {
      "cell_type": "markdown",
      "metadata": {
        "id": "iafPdtuncbq7"
      },
      "source": [
        "<h1><center>Autoencoder on MNIST using Keras<center></h1>"
      ]
    },
    {
      "cell_type": "code",
      "execution_count": 1,
      "metadata": {
        "id": "eZrJBHU_AAwM"
      },
      "outputs": [],
      "source": [
        "import matplotlib.pyplot as plt\n",
        "%matplotlib inline\n",
        "import numpy as np"
      ]
    },
    {
      "cell_type": "markdown",
      "metadata": {
        "id": "I4VrCB5La5rD"
      },
      "source": [
        "## Importing Keras"
      ]
    },
    {
      "cell_type": "code",
      "execution_count": 2,
      "metadata": {
        "colab": {
          "base_uri": "https://localhost:8080/"
        },
        "id": "OlKZ3Hnas7B4",
        "outputId": "5f3ea3c1-2a50-4371-d703-0bc35ec7d944"
      },
      "outputs": [
        {
          "output_type": "stream",
          "name": "stdout",
          "text": [
            "Using tensorflow version 2.8.0\n",
            "Using keras version 2.8.0\n"
          ]
        }
      ],
      "source": [
        "import tensorflow as tf\n",
        "import tensorflow.keras as keras\n",
        "print(\"Using tensorflow version \" + str(tf.__version__))\n",
        "print(\"Using keras version \" + str(keras.__version__))"
      ]
    },
    {
      "cell_type": "markdown",
      "metadata": {
        "id": "s_QLz9_jbRZq"
      },
      "source": [
        "## Loading and preparing the MNIST dataset"
      ]
    },
    {
      "cell_type": "markdown",
      "metadata": {
        "id": "qLtK5hWxUUDD"
      },
      "source": [
        "Load the MNIST dataset via keras.datasets. Again, turn train and test labels into one-hot encoding, and reshape and normalize data as in the first exercise. "
      ]
    },
    {
      "cell_type": "code",
      "execution_count": 3,
      "metadata": {
        "cellView": "both",
        "colab": {
          "base_uri": "https://localhost:8080/"
        },
        "id": "gG83hGyVmijn",
        "outputId": "c7edf35c-573d-4bc2-b91b-8fdee62a7d93"
      },
      "outputs": [
        {
          "output_type": "stream",
          "name": "stdout",
          "text": [
            "Downloading data from https://storage.googleapis.com/tensorflow/tf-keras-datasets/mnist.npz\n",
            "11493376/11490434 [==============================] - 0s 0us/step\n",
            "11501568/11490434 [==============================] - 0s 0us/step\n",
            "Size of training set is  (60000, 28, 28)\n",
            "Size of testint set is  (10000, 28, 28)\n"
          ]
        }
      ],
      "source": [
        "# The MNSIT dataset is ready to be imported from Keras into RAM\n",
        "# Warning: you cannot do that for larger databases (e.g., ImageNet)\n",
        "\n",
        "from keras.datasets import mnist\n",
        "# START CODE HERE\n",
        "\n",
        "(train_images, y_train), (test_images, y_test) = keras.datasets.mnist.load_data()\n",
        "print('Size of training set is ',train_images.shape)\n",
        "print('Size of testint set is ',test_images.shape)\n",
        "\n",
        "\n"
      ]
    },
    {
      "cell_type": "code",
      "execution_count": 4,
      "metadata": {
        "colab": {
          "base_uri": "https://localhost:8080/"
        },
        "id": "lQbkllF8mnaf",
        "outputId": "3c497efa-c0a4-4e56-8877-19ff620f7170"
      },
      "outputs": [
        {
          "output_type": "stream",
          "name": "stdout",
          "text": [
            "The label of the train set is: (60000, 10)\n",
            "The label of the test set is: (10000, 10)\n"
          ]
        }
      ],
      "source": [
        "# Do you remember about one-hot encoding ?\n",
        "from keras.utils.np_utils import to_categorical\n",
        "# START CODE HERE\n",
        "train_labels = to_categorical(y_train, num_classes=10)\n",
        "test_labels = to_categorical(y_test, num_classes=10)\n",
        "print('The label of the train set is:', train_labels.shape)\n",
        "print('The label of the test set is:', test_labels.shape)\n",
        "# END CODE HERE"
      ]
    },
    {
      "cell_type": "code",
      "execution_count": 5,
      "metadata": {
        "colab": {
          "base_uri": "https://localhost:8080/"
        },
        "id": "ptTRSDo5nJyZ",
        "outputId": "788f9d1a-1796-49f4-b19f-a312e5c3c727"
      },
      "outputs": [
        {
          "output_type": "stream",
          "name": "stdout",
          "text": [
            "The mean of our test images is 0.0060174568 , its variance is 1.0077008\n",
            "The mean of our train images is -3.4560264e-07 , its variance is 0.9999998\n"
          ]
        }
      ],
      "source": [
        "# Reshape to proper images with 1 color channel according to backend scheme\n",
        "img_rows, img_cols = train_images.shape[1], train_images.shape[2]\n",
        "train_images_p = train_images.reshape((-1, img_rows*img_cols))\n",
        "test_images_p = test_images.reshape((-1, img_rows*img_cols))\n",
        "\n",
        "\n",
        "# Cast pixels from uint8 to float32\n",
        "train_images_p = train_images_p.astype('float32')\n",
        "\n",
        "# Now let us normalize the images so that they have zero mean and standard deviation\n",
        "# Hint: are real testing data statistics known at training time ?\n",
        "# START CODE HERE\n",
        "mean = train_images_p.mean()\n",
        "std = train_images_p.std()\n",
        "\n",
        "train_images_n = np.array([(x-mean)/std for x in train_images_p])\n",
        "test_images_n = np.array([(x-mean)/std for x in test_images_p])\n",
        "\n",
        "print(\"The mean of our test images is\", test_images_n.mean(), \", its variance is\", test_images_n.std() )\n",
        "print(\"The mean of our train images is\", train_images_n.mean(), \", its variance is\", train_images_n.std() )\n",
        "\n",
        "# END CODE HERE\n",
        "\n"
      ]
    },
    {
      "cell_type": "markdown",
      "metadata": {
        "id": "phmAz1_EAAwS"
      },
      "source": [
        "## Autoencoder and PCA\n",
        "\n",
        "First, we will try to connect the representation produced by Principal Component Analysis with what is learnt by a simple, linear, autoencoder. We will use the ```scikit-learn``` implementation of the ```PCA``` to obtain the two first components (hint: use the attribute ```.components_```), and visualize them:"
      ]
    },
    {
      "cell_type": "code",
      "execution_count": 6,
      "metadata": {
        "colab": {
          "base_uri": "https://localhost:8080/",
          "height": 323
        },
        "id": "6au2tbxJAAwS",
        "outputId": "80d02397-2d83-4c52-a2af-e16bc90753a3"
      },
      "outputs": [
        {
          "output_type": "stream",
          "name": "stdout",
          "text": [
            "The first 2 PCA components of the training set are: [[-3.6661352e-09 -1.2969747e-08 -1.5228011e-09 ... -5.3099647e-10\n",
            "  -5.3099647e-10 -5.3099647e-10]\n",
            " [-8.1302014e-09 -9.0449497e-09 -3.5283765e-10 ... -5.0823584e-10\n",
            "  -5.0823584e-10 -5.0823584e-10]]\n"
          ]
        },
        {
          "output_type": "execute_result",
          "data": {
            "text/plain": [
              "Text(0.5, 1.0, 'PC2')"
            ]
          },
          "metadata": {},
          "execution_count": 6
        },
        {
          "output_type": "display_data",
          "data": {
            "text/plain": [
              "<Figure size 432x432 with 2 Axes>"
            ],
            "image/png": "[encoded data removed]"
          },
          "metadata": {
            "needs_background": "light"
          }
        }
      ],
      "source": [
        "from sklearn.decomposition import PCA\n",
        "\n",
        "# Let's find the first 2 PCA components\n",
        "num_components = 2\n",
        "# START CODE HERE\n",
        "pca_train = PCA(n_components=num_components)\n",
        "PC_train = pca_train.fit_transform(train_images_n)\n",
        "print(\"The first 2 PCA components of the training set are:\", pca_train.components_)\n",
        "\n",
        "# END CODE HERE\n",
        "\n",
        "# Reshape so they resemble images and we can print them\n",
        "# START CODE HERE\n",
        "\n",
        "PC1= pca_train.components_[0].reshape(28,28)\n",
        "PC2= pca_train.components_[1].reshape(28,28)\n",
        "\n",
        "# END CODE HERE\n",
        "\n",
        "# Show the reshaped principal components\n",
        "# START CODE HERE\n",
        "fig, axes = plt.subplots(1, 2, figsize=(6,6))\n",
        "axes[0].imshow(PC1)\n",
        "axes[0].set_title(\"PC1\")\n",
        "axes[1].imshow(PC2)\n",
        "axes[1].set_title(\"PC2\")\n",
        "# END CODE HERE"
      ]
    },
    {
      "cell_type": "code",
      "execution_count": 7,
      "metadata": {
        "colab": {
          "base_uri": "https://localhost:8080/"
        },
        "id": "WU4bgXOMAAwT",
        "outputId": "3f3c8320-a388-421c-d6d0-ff45d1b8d3ec"
      },
      "outputs": [
        {
          "output_type": "stream",
          "name": "stdout",
          "text": [
            "The variance of the training set is [53.901363 39.411995]\n"
          ]
        }
      ],
      "source": [
        "# Print the variance explained by those components\n",
        "print(\"The variance of the training set is\",pca_train.explained_variance_)"
      ]
    },
    {
      "cell_type": "markdown",
      "metadata": {
        "id": "l0EhcDt_AAwT"
      },
      "source": [
        "**Comment on the visualization in relation to the variance explained by only keeping the two principal components.**"
      ]
    },
    {
      "cell_type": "markdown",
      "metadata": {
        "id": "IicKdmYcAAwU"
      },
      "source": [
        "Now, we will use Keras to implement the autoencoder. You can take a look at this [cheatsheet](https://s3.amazonaws.com/assets.datacamp.com/blog_assets/Keras_Cheat_Sheet_Python.pdf) for some basic commands to use keras.\n",
        "\n",
        "In this first case, we implement a **simple linear autoencoder**. Build it in order to have the same capacity as the PCA decomposition (2 hidden dimensions !) we made just above. "
      ]
    },
    {
      "cell_type": "code",
      "execution_count": 8,
      "metadata": {
        "id": "414XraVPAAwU"
      },
      "outputs": [],
      "source": [
        "from tensorflow.keras.models import Model\n",
        "from tensorflow.keras.layers import Input, Dense\n",
        "from tensorflow.keras.optimizers import SGD"
      ]
    },
    {
      "cell_type": "code",
      "execution_count": 9,
      "metadata": {
        "id": "Bo6h_SZ4AAwU"
      },
      "outputs": [],
      "source": [
        "# Input layer\n",
        "input_layer = Input(shape=(784,))"
      ]
    },
    {
      "cell_type": "code",
      "execution_count": 10,
      "metadata": {
        "id": "FcC6JpAfAAwV"
      },
      "outputs": [],
      "source": [
        "# Encoding layer\n",
        "latent_view = Dense(2)(input_layer)"
      ]
    },
    {
      "cell_type": "code",
      "execution_count": 11,
      "metadata": {
        "id": "OdbzNdBfAAwV"
      },
      "outputs": [],
      "source": [
        "# Decoding layer\n",
        "output_layer = Dense(784, activation='sigmoid')(latent_view)"
      ]
    },
    {
      "cell_type": "code",
      "execution_count": 12,
      "metadata": {
        "colab": {
          "base_uri": "https://localhost:8080/"
        },
        "id": "IapYlw6CAAwV",
        "outputId": "fbb532f9-7684-4c9e-9ef0-320509b91a78"
      },
      "outputs": [
        {
          "output_type": "stream",
          "name": "stdout",
          "text": [
            "Model: \"ae_model\"\n",
            "_________________________________________________________________\n",
            " Layer (type)                Output Shape              Param #   \n",
            "=================================================================\n",
            " input_1 (InputLayer)        [(None, 784)]             0         \n",
            "                                                                 \n",
            " dense (Dense)               (None, 2)                 1570      \n",
            "                                                                 \n",
            " dense_1 (Dense)             (None, 784)               2352      \n",
            "                                                                 \n",
            "=================================================================\n",
            "Total params: 3,922\n",
            "Trainable params: 3,922\n",
            "Non-trainable params: 0\n",
            "_________________________________________________________________\n"
          ]
        }
      ],
      "source": [
        "ae_model = Model(input_layer, output_layer, name='ae_model')\n",
        "ae_model.summary()"
      ]
    },
    {
      "cell_type": "markdown",
      "metadata": {
        "id": "s0OY60MEAAwW"
      },
      "source": [
        "What loss shoud we use ? Choose the usual one and import it directly from Keras. You can use a simple ```SGD``` optimizer, and then compile the model; finally, train it to rebuild images from the original examples.  "
      ]
    },
    {
      "cell_type": "code",
      "execution_count": 13,
      "metadata": {
        "colab": {
          "base_uri": "https://localhost:8080/"
        },
        "id": "mF7DWvBHAAwW",
        "outputId": "40ffce97-4296-4785-cc28-93574f8ead7a"
      },
      "outputs": [
        {
          "output_type": "stream",
          "name": "stderr",
          "text": [
            "/usr/local/lib/python3.7/dist-packages/keras/optimizer_v2/gradient_descent.py:102: UserWarning: The `lr` argument is deprecated, use `learning_rate` instead.\n",
            "  super(SGD, self).__init__(name, **kwargs)\n"
          ]
        }
      ],
      "source": [
        "from tensorflow.keras.losses import MSE\n",
        "loss = 'MSE'\n",
        "\n",
        "\n",
        "optimizer = SGD(lr=1e-1) \n",
        "ae_model.compile(optimizer=optimizer, loss=loss) "
      ]
    },
    {
      "cell_type": "code",
      "execution_count": 14,
      "metadata": {
        "colab": {
          "base_uri": "https://localhost:8080/"
        },
        "id": "pWGB7MaUAAwY",
        "outputId": "bb667a5c-18a6-41b0-fcd7-cfd4a9157027"
      },
      "outputs": [
        {
          "output_type": "stream",
          "name": "stdout",
          "text": [
            "Epoch 1/10\n",
            "469/469 [==============================] - 3s 5ms/step - loss: 1.0264 - val_loss: 0.8151\n",
            "Epoch 2/10\n",
            "469/469 [==============================] - 2s 5ms/step - loss: 0.8044 - val_loss: 0.8040\n",
            "Epoch 3/10\n",
            "469/469 [==============================] - 2s 5ms/step - loss: 0.7986 - val_loss: 0.7997\n",
            "Epoch 4/10\n",
            "469/469 [==============================] - 2s 5ms/step - loss: 0.7933 - val_loss: 0.7927\n",
            "Epoch 5/10\n",
            "469/469 [==============================] - 2s 4ms/step - loss: 0.7847 - val_loss: 0.7831\n",
            "Epoch 6/10\n",
            "469/469 [==============================] - 2s 4ms/step - loss: 0.7768 - val_loss: 0.7770\n",
            "Epoch 7/10\n",
            "469/469 [==============================] - 2s 5ms/step - loss: 0.7722 - val_loss: 0.7736\n",
            "Epoch 8/10\n",
            "469/469 [==============================] - 2s 5ms/step - loss: 0.7695 - val_loss: 0.7715\n",
            "Epoch 9/10\n",
            "469/469 [==============================] - 2s 5ms/step - loss: 0.7676 - val_loss: 0.7699\n",
            "Epoch 10/10\n",
            "469/469 [==============================] - 2s 5ms/step - loss: 0.7664 - val_loss: 0.7689\n"
          ]
        }
      ],
      "source": [
        "batch_size = 128\n",
        "epochs = 10\n",
        "# No noise here - we want to train a simple auto-encoder and compare visually with PCA\n",
        "history = ae_model.fit(train_images_n,\n",
        "                       train_images_n,\n",
        "                       epochs=epochs,\n",
        "                       batch_size=batch_size,\n",
        "                       verbose=1,\n",
        "                       shuffle=True,\n",
        "                       validation_data=(test_images_n,test_images_n))"
      ]
    },
    {
      "cell_type": "markdown",
      "metadata": {
        "id": "SX1g2eHLAAwZ"
      },
      "source": [
        "Assuming that the name of your layer (obtained through the command ```model.summary()```) is ```'layer'```, here is the way to obtained the weights. Visualize the weights of the encoder and compare them to the two components obtained through the PCA."
      ]
    },
    {
      "cell_type": "code",
      "execution_count": 16,
      "metadata": {
        "id": "6lmVonBmAAwZ"
      },
      "outputs": [],
      "source": [
        "weights, bias = ae_model.get_layer('dense').get_weights()"
      ]
    },
    {
      "cell_type": "code",
      "execution_count": 17,
      "metadata": {
        "colab": {
          "base_uri": "https://localhost:8080/",
          "height": 233
        },
        "id": "mkDt6us5AAwa",
        "outputId": "f12e6c04-ae84-4e52-b37c-0f2cad01d8a7"
      },
      "outputs": [
        {
          "output_type": "execute_result",
          "data": {
            "text/plain": [
              "Text(0.5, 1.0, 'Second dimension of the encoder')"
            ]
          },
          "metadata": {},
          "execution_count": 17
        },
        {
          "output_type": "display_data",
          "data": {
            "text/plain": [
              "<Figure size 432x432 with 2 Axes>"
            ],
            "image/png": "[encoded data removed]"
          },
          "metadata": {
            "needs_background": "light"
          }
        }
      ],
      "source": [
        "# Show the two dimensions of the encoder, in a similar manner to the principal components\n",
        "# (after reshaping them as images !)\n",
        "# START CODE HERE\n",
        "fig, axes = plt.subplots(1, 2, figsize=(6,6))\n",
        "axes[0].imshow(weights.T[0].reshape(28,28))\n",
        "axes[0].set_title(\"First dimension of the encoder\")\n",
        "axes[1].imshow(weights.T[1].reshape(28,28))\n",
        "axes[1].set_title(\"Second dimension of the encoder\")\n",
        "# END CODE HERE"
      ]
    },
    {
      "cell_type": "markdown",
      "metadata": {
        "id": "jAs-ldA6AAwa"
      },
      "source": [
        "Now, visualize the images rebuild by the network !"
      ]
    },
    {
      "cell_type": "code",
      "execution_count": 18,
      "metadata": {
        "id": "ABUKQWDyAAwa"
      },
      "outputs": [],
      "source": [
        "# Select a few images at random: look from n\n",
        "n = np.random.randint(0,len(test_images_n)-5)"
      ]
    },
    {
      "cell_type": "code",
      "execution_count": 19,
      "metadata": {
        "colab": {
          "base_uri": "https://localhost:8080/",
          "height": 109
        },
        "id": "Mk21kpOrAAwa",
        "outputId": "e14e09ee-3f50-4f43-eee2-cd989e5e5646"
      },
      "outputs": [
        {
          "output_type": "display_data",
          "data": {
            "text/plain": [
              "<Figure size 432x288 with 5 Axes>"
            ],
            "image/png": "[encoded data removed]"
          },
          "metadata": {
            "needs_background": "light"
          }
        }
      ],
      "source": [
        "# Plot a few images from n  \n",
        "f, ax = plt.subplots(1,5)\n",
        "for i,a in enumerate(range(n,n+5)):\n",
        "    # START CODE HERE\n",
        "    ax[i].imshow((ae_model.predict(test_images_n)[a]).reshape(28,28))\n",
        "    # END CODE HERE"
      ]
    },
    {
      "cell_type": "code",
      "execution_count": null,
      "metadata": {
        "id": "0385RqrIAAwb"
      },
      "outputs": [],
      "source": [
        "# Get the prediction from the model \n",
        "# START CODE HERE\n",
        "...\n",
        "# END CODE HERE\n",
        "\n",
        "# ... and plot them \n",
        "f, ax = plt.subplots(1,5)\n",
        "for i,a in enumerate(range(n,n+5)):\n",
        "    # START CODE HERE\n",
        "    ...\n",
        "    # END CODE HERE"
      ]
    },
    {
      "cell_type": "markdown",
      "metadata": {
        "id": "l4ESX_PwAAwb"
      },
      "source": [
        "Do the same ( = build a new model) with a latent dimension that is largely higher than 2. Compare the visualizations and the images that are rebuilt. "
      ]
    },
    {
      "cell_type": "code",
      "execution_count": 20,
      "metadata": {
        "colab": {
          "base_uri": "https://localhost:8080/",
          "height": 771
        },
        "id": "MDZd-QloAAwb",
        "outputId": "6dc23469-6024-45eb-b361-9ba3155483a9"
      },
      "outputs": [
        {
          "output_type": "stream",
          "name": "stdout",
          "text": [
            "Model: \"ae_model_h\"\n",
            "_________________________________________________________________\n",
            " Layer (type)                Output Shape              Param #   \n",
            "=================================================================\n",
            " input_1 (InputLayer)        [(None, 784)]             0         \n",
            "                                                                 \n",
            " dense (Dense)               (None, 2)                 1570      \n",
            "                                                                 \n",
            " dense_3 (Dense)             (None, 784)               2352      \n",
            "                                                                 \n",
            "=================================================================\n",
            "Total params: 3,922\n",
            "Trainable params: 3,922\n",
            "Non-trainable params: 0\n",
            "_________________________________________________________________\n",
            "Epoch 1/10\n"
          ]
        },
        {
          "output_type": "stream",
          "name": "stderr",
          "text": [
            "/usr/local/lib/python3.7/dist-packages/keras/optimizer_v2/gradient_descent.py:102: UserWarning: The `lr` argument is deprecated, use `learning_rate` instead.\n",
            "  super(SGD, self).__init__(name, **kwargs)\n"
          ]
        },
        {
          "output_type": "stream",
          "name": "stdout",
          "text": [
            "469/469 [==============================] - 3s 5ms/step - loss: 0.8471 - val_loss: 0.7867\n",
            "Epoch 2/10\n",
            "469/469 [==============================] - 2s 5ms/step - loss: 0.7779 - val_loss: 0.7765\n",
            "Epoch 3/10\n",
            "469/469 [==============================] - 2s 5ms/step - loss: 0.7712 - val_loss: 0.7721\n",
            "Epoch 4/10\n",
            "469/469 [==============================] - 2s 5ms/step - loss: 0.7681 - val_loss: 0.7700\n",
            "Epoch 5/10\n",
            "469/469 [==============================] - 2s 5ms/step - loss: 0.7662 - val_loss: 0.7681\n",
            "Epoch 6/10\n",
            "469/469 [==============================] - 2s 5ms/step - loss: 0.7645 - val_loss: 0.7666\n",
            "Epoch 7/10\n",
            "469/469 [==============================] - 2s 5ms/step - loss: 0.7635 - val_loss: 0.7659\n",
            "Epoch 8/10\n",
            "469/469 [==============================] - 2s 5ms/step - loss: 0.7628 - val_loss: 0.7651\n",
            "Epoch 9/10\n",
            "469/469 [==============================] - 2s 5ms/step - loss: 0.7621 - val_loss: 0.7645\n",
            "Epoch 10/10\n",
            "469/469 [==============================] - 2s 5ms/step - loss: 0.7616 - val_loss: 0.7641\n"
          ]
        },
        {
          "output_type": "display_data",
          "data": {
            "text/plain": [
              "<Figure size 432x288 with 5 Axes>"
            ],
            "image/png": "[encoded data removed]"
          },
          "metadata": {
            "needs_background": "light"
          }
        }
      ],
      "source": [
        "# START CODE HERE\n",
        "latent_view_h = Dense(32)(input_layer)\n",
        "output_layer_h = Dense(784, activation='sigmoid')(latent_view)\n",
        "ae_model_h = Model(input_layer, output_layer_h, name='ae_model_h')\n",
        "ae_model_h.summary()\n",
        "\n",
        "optimizer = SGD(lr=1e-1) \n",
        "ae_model_h.compile(optimizer=optimizer, loss=loss) \n",
        "\n",
        "batch_size = 128\n",
        "epochs = 10\n",
        "# No noise here - we want to train a simple auto-encoder and compare visually with PCA\n",
        "history = ae_model_h.fit(train_images_n,\n",
        "                       train_images_n,\n",
        "                       epochs=epochs,\n",
        "                       batch_size=batch_size,\n",
        "                       verbose=1,\n",
        "                       shuffle=True,\n",
        "                       validation_data=(test_images_n,test_images_n))\n",
        "\n",
        "\n",
        "# Select a few images at random: look from n\n",
        "n = np.random.randint(0,len(test_images_n)-5)\n",
        "# Plot a few images from n  \n",
        "f, ax = plt.subplots(1,5)\n",
        "for i,a in enumerate(range(n,n+5)):\n",
        "\n",
        "    ax[i].imshow((ae_model_h.predict(test_images_n)[a]).reshape(28,28))\n",
        "\n",
        "\n",
        "\n",
        "\n",
        "# END CODE HERE"
      ]
    },
    {
      "cell_type": "markdown",
      "metadata": {
        "id": "l8qzRNp6AAwb"
      },
      "source": [
        "## Denoising auto-encoder "
      ]
    },
    {
      "cell_type": "markdown",
      "metadata": {
        "id": "XSDh7HB9AAwb"
      },
      "source": [
        "Now, we can implement a **de-noising autoencoder**. The following function will transform an array of images by adding it random noise. Create a new autoencoder model, this time with **more layers** and **non-linear activations** (like the ReLU) and train it to rebuild the de-noised images. Display some testing images, with noise, and re-built. "
      ]
    },
    {
      "cell_type": "code",
      "execution_count": 21,
      "metadata": {
        "id": "zPsKPZPjAAwc"
      },
      "outputs": [],
      "source": [
        "def noise(array):\n",
        "    \"\"\"\n",
        "    Adds random noise to each image in the supplied array.\n",
        "    \"\"\"\n",
        "    noise_factor = 0.4\n",
        "    noisy_array = array + noise_factor * np.random.normal(\n",
        "        loc=0.0, scale=1.0, size=array.shape\n",
        "    )\n",
        "    return noisy_array"
      ]
    },
    {
      "cell_type": "code",
      "execution_count": 22,
      "metadata": {
        "id": "z_96c-YsAAwc"
      },
      "outputs": [],
      "source": [
        "# Create a copy of the data with added noise\n",
        "noisy_train_images = noise(train_images_n)\n",
        "noisy_test_images = noise(test_images_n)"
      ]
    },
    {
      "cell_type": "code",
      "execution_count": 23,
      "metadata": {
        "colab": {
          "base_uri": "https://localhost:8080/",
          "height": 240
        },
        "id": "P40KsTt2AAwc",
        "outputId": "d950c87b-d8f9-4479-f3b1-646f7dbc9aec"
      },
      "outputs": [
        {
          "output_type": "display_data",
          "data": {
            "text/plain": [
              "<Figure size 432x288 with 10 Axes>"
            ],
            "image/png": "[encoded data removed]"
          },
          "metadata": {
            "needs_background": "light"
          }
        }
      ],
      "source": [
        "# Visualize some of the images with noise against the originals\n",
        "# START CODE HERE\n",
        "# Select a few images at random: look from n\n",
        "n = np.random.randint(0,len(test_images)-5)\n",
        "\n",
        "# Plot a few images from n  \n",
        "f, ax = plt.subplots(2,5)\n",
        "for i,a in enumerate(range(n,n+5)):\n",
        "    ax[0,i].imshow(noisy_test_images[a].reshape(28,28))\n",
        "    ax[0,i].set_title(\"Noisy images\")\n",
        "    ax[1,i].imshow(test_images_n[a].reshape(28,28),label='Original')\n",
        "    ax[1,i].set_title(\"Original images\")\n"
      ]
    },
    {
      "cell_type": "code",
      "execution_count": 24,
      "metadata": {
        "id": "XsPXOWgAAAwc",
        "colab": {
          "base_uri": "https://localhost:8080/"
        },
        "outputId": "ebf5c9d8-a6c5-4f23-acb4-cd92d1caa361"
      },
      "outputs": [
        {
          "output_type": "stream",
          "name": "stdout",
          "text": [
            "Model: \"ae_model_noise\"\n",
            "_________________________________________________________________\n",
            " Layer (type)                Output Shape              Param #   \n",
            "=================================================================\n",
            " input_1 (InputLayer)        [(None, 784)]             0         \n",
            "                                                                 \n",
            " dense_4 (Dense)             (None, 32)                25120     \n",
            "                                                                 \n",
            " dense_5 (Dense)             (None, 784)               25872     \n",
            "                                                                 \n",
            "=================================================================\n",
            "Total params: 50,992\n",
            "Trainable params: 50,992\n",
            "Non-trainable params: 0\n",
            "_________________________________________________________________\n"
          ]
        }
      ],
      "source": [
        "# Build a new model with more layers and Relu activations\n",
        "# START CODE HERE\n",
        "latent_view_noise = Dense(32)(input_layer)\n",
        "output_layer = Dense(784, activation='relu')(latent_view_noise)\n",
        "ae_model_noise = Model(input_layer, output_layer, name='ae_model_noise')\n",
        "ae_model_noise.summary()\n",
        "# END CODE HERE"
      ]
    },
    {
      "cell_type": "code",
      "execution_count": 25,
      "metadata": {
        "id": "9HTvLMRsAAwd",
        "colab": {
          "base_uri": "https://localhost:8080/"
        },
        "outputId": "83d7e7ac-f40d-4f09-816e-c703e9b2c2d3"
      },
      "outputs": [
        {
          "output_type": "stream",
          "name": "stdout",
          "text": [
            "Epoch 1/10\n"
          ]
        },
        {
          "output_type": "stream",
          "name": "stderr",
          "text": [
            "/usr/local/lib/python3.7/dist-packages/keras/optimizer_v2/gradient_descent.py:102: UserWarning: The `lr` argument is deprecated, use `learning_rate` instead.\n",
            "  super(SGD, self).__init__(name, **kwargs)\n"
          ]
        },
        {
          "output_type": "stream",
          "name": "stdout",
          "text": [
            "469/469 [==============================] - 3s 6ms/step - loss: 0.7727 - val_loss: 0.6314\n",
            "Epoch 2/10\n",
            "469/469 [==============================] - 3s 6ms/step - loss: 0.5615 - val_loss: 0.5076\n",
            "Epoch 3/10\n",
            "469/469 [==============================] - 3s 6ms/step - loss: 0.4782 - val_loss: 0.4472\n",
            "Epoch 4/10\n",
            "469/469 [==============================] - 3s 5ms/step - loss: 0.4343 - val_loss: 0.4164\n",
            "Epoch 5/10\n",
            "469/469 [==============================] - 3s 6ms/step - loss: 0.4085 - val_loss: 0.3945\n",
            "Epoch 6/10\n",
            "469/469 [==============================] - 3s 5ms/step - loss: 0.3892 - val_loss: 0.3770\n",
            "Epoch 7/10\n",
            "469/469 [==============================] - 4s 7ms/step - loss: 0.3746 - val_loss: 0.3657\n",
            "Epoch 8/10\n",
            "469/469 [==============================] - 3s 5ms/step - loss: 0.3646 - val_loss: 0.3566\n",
            "Epoch 9/10\n",
            "469/469 [==============================] - 3s 5ms/step - loss: 0.3558 - val_loss: 0.3485\n",
            "Epoch 10/10\n",
            "469/469 [==============================] - 3s 6ms/step - loss: 0.3490 - val_loss: 0.3429\n"
          ]
        }
      ],
      "source": [
        "# Compile it but here, use noised data as inputs !\n",
        "# START CODE HERE\n",
        "optimizer = SGD(lr=1e-1) \n",
        "ae_model_noise.compile(optimizer=optimizer, loss=loss) \n",
        "\n",
        "batch_size = 128\n",
        "epochs = 10\n",
        "# No noise here - we want to train a simple auto-encoder and compare visually with PCA\n",
        "history = ae_model_noise.fit(train_images_n,\n",
        "                       train_images_n,\n",
        "                       epochs=epochs,\n",
        "                       batch_size=batch_size,\n",
        "                       verbose=1,\n",
        "                       shuffle=True,\n",
        "                       validation_data=(test_images_n,test_images_n))\n",
        "# END CODE HERE"
      ]
    },
    {
      "cell_type": "code",
      "execution_count": 26,
      "metadata": {
        "id": "uO05ILc5AAwd",
        "colab": {
          "base_uri": "https://localhost:8080/",
          "height": 109
        },
        "outputId": "d0fcf91a-e08f-4ce1-b10d-4e5bc2f63699"
      },
      "outputs": [
        {
          "output_type": "display_data",
          "data": {
            "text/plain": [
              "<Figure size 432x288 with 5 Axes>"
            ],
            "image/png": "[encoded data removed]"
          },
          "metadata": {
            "needs_background": "light"
          }
        }
      ],
      "source": [
        "# Visualize the images rebuilt by the model !\n",
        "# START CODE HERE\n",
        "# Select a few images at random: look from n\n",
        "n = np.random.randint(0,len(test_images_n)-5)\n",
        "# Plot a few images from n  \n",
        "f, ax = plt.subplots(1,5)\n",
        "for i,a in enumerate(range(n,n+5)):\n",
        "\n",
        "    ax[i].imshow((ae_model_noise.predict(noisy_test_images)[a]).reshape(28,28))\n",
        "\n",
        "# END CODE HERE"
      ]
    },
    {
      "cell_type": "markdown",
      "source": [
        "The noise that was in the images is gone after we rebuild them."
      ],
      "metadata": {
        "id": "JPDz2n2quf12"
      }
    },
    {
      "cell_type": "markdown",
      "metadata": {
        "id": "5mCXk_YBAAwd"
      },
      "source": [
        "**Assuming that we normalize the images to be in the 0-1 range, what other loss function could we use ?**"
      ]
    },
    {
      "cell_type": "markdown",
      "source": [
        "We could use binary crossentropy for images in the 0-1 range."
      ],
      "metadata": {
        "id": "cWKDpwB3BqK2"
      }
    }
  ],
  "metadata": {
    "accelerator": "GPU",
    "colab": {
      "collapsed_sections": [],
      "name": "Ex2_Baillieul_Dulout.ipynb",
      "provenance": []
    },
    "kernelspec": {
      "display_name": "Python 3",
      "language": "python",
      "name": "python3"
    },
    "language_info": {
      "codemirror_mode": {
        "name": "ipython",
        "version": 3
      },
      "file_extension": ".py",
      "mimetype": "text/x-python",
      "name": "python",
      "nbconvert_exporter": "python",
      "pygments_lexer": "ipython3",
      "version": "3.8.8"
    }
  },
  "nbformat": 4,
  "nbformat_minor": 0
}